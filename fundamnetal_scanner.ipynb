{
 "cells": [
  {
   "cell_type": "code",
   "execution_count": 1,
   "id": "e8b5d3dc-a6f4-4e6d-8787-076ba6e5241a",
   "metadata": {},
   "outputs": [],
   "source": [
    "import pickle as pkl\n",
    "import requests\n",
    "from config import ameritrade\n",
    "import pandas as pd\n",
    "import time \n",
    "import re\n",
    "import os"
   ]
  },
  {
   "cell_type": "code",
   "execution_count": 2,
   "id": "96532f3c-28db-4683-a381-3b7f161bc877",
   "metadata": {},
   "outputs": [
    {
     "data": {
      "text/plain": [
       "'Wed Sep 22 21:31:30 2021'"
      ]
     },
     "execution_count": 2,
     "metadata": {},
     "output_type": "execute_result"
    }
   ],
   "source": [
    "time.asctime()"
   ]
  },
  {
   "cell_type": "code",
   "execution_count": 3,
   "id": "60dccb6b-c181-4fba-80e5-b33c9c9145ab",
   "metadata": {},
   "outputs": [],
   "source": [
    "f_name = time.asctime() + '.pkl'"
   ]
  },
  {
   "cell_type": "code",
   "execution_count": 4,
   "id": "aac16bd0-3e10-430a-8267-a98bd0a7decd",
   "metadata": {},
   "outputs": [
    {
     "data": {
      "text/plain": [
       "'Wed Sep 22 21:32:02 2021.pkl'"
      ]
     },
     "execution_count": 4,
     "metadata": {},
     "output_type": "execute_result"
    }
   ],
   "source": [
    "f_name"
   ]
  },
  {
   "cell_type": "code",
   "execution_count": 5,
   "id": "6fa51e7e-73b9-4851-8c03-926b9006d5a2",
   "metadata": {},
   "outputs": [],
   "source": [
    "f_name = re.sub(\":\", \"_\", f_name)"
   ]
  },
  {
   "cell_type": "code",
   "execution_count": 6,
   "id": "a2996630-4b9c-4b1d-93c5-b6185f1bc8c1",
   "metadata": {},
   "outputs": [],
   "source": [
    "f_name = re.sub(\" \", \"_\", f_name)"
   ]
  },
  {
   "cell_type": "code",
   "execution_count": 7,
   "id": "03f6539d-87d2-4bf6-b0de-911336c4f6ca",
   "metadata": {},
   "outputs": [
    {
     "data": {
      "text/plain": [
       "'Wed_Sep_22_21_32_02_2021.pkl'"
      ]
     },
     "execution_count": 7,
     "metadata": {},
     "output_type": "execute_result"
    }
   ],
   "source": [
    "f_name"
   ]
  },
  {
   "cell_type": "code",
   "execution_count": 12,
   "id": "7e86b2ca-4127-4377-b3d7-71506c61bb88",
   "metadata": {},
   "outputs": [],
   "source": [
    "def time_as_name(filetype=None):\n",
    "    if filetype:\n",
    "        f_name = time.asctime() + filetype\n",
    "    else:\n",
    "        f_name = time.asctime()\n",
    "    f_name = re.sub(\":\", \"_\", f_name)\n",
    "    f_name = re.sub(' ', '_', f_name)\n",
    "    return f_name"
   ]
  },
  {
   "cell_type": "code",
   "execution_count": 13,
   "id": "2353e353-4713-43c8-84a5-3577af71b092",
   "metadata": {},
   "outputs": [
    {
     "data": {
      "text/plain": [
       "'Wed_Sep_22_21_51_06_2021'"
      ]
     },
     "execution_count": 13,
     "metadata": {},
     "output_type": "execute_result"
    }
   ],
   "source": [
    "time_as_name()"
   ]
  },
  {
   "cell_type": "code",
   "execution_count": 14,
   "id": "eb183797-028b-4078-85e8-5b7cd1a2a409",
   "metadata": {},
   "outputs": [],
   "source": [
    "os.mkdir(time_as_name())"
   ]
  },
  {
   "cell_type": "code",
   "execution_count": 15,
   "id": "0443c2e3-19a0-49f9-9b72-17fff90e4d83",
   "metadata": {},
   "outputs": [
    {
     "data": {
      "text/plain": [
       "['stock_scanner.py',\n",
       " 'healthcare_bucket.csv',\n",
       " 'plot.py',\n",
       " 'Wed_Sep_22_21_51_09_2021',\n",
       " '.DS_Store',\n",
       " 'config.py',\n",
       " 'models.py',\n",
       " 'aapl.png',\n",
       " 'tech_bucket.csv',\n",
       " 'price.csv',\n",
       " 'retrieve_input.py',\n",
       " 'instrument_list.pkl',\n",
       " 'chart.py',\n",
       " '__pycache__',\n",
       " 'growth_tech.csv',\n",
       " 'README.md',\n",
       " 'energy_bucket.csv',\n",
       " '.gitignore',\n",
       " 'fundamnetal_scanner.ipynb',\n",
       " 'NVDA.png',\n",
       " '.ipynb_checkpoints',\n",
       " 'financial_bucket.csv',\n",
       " '.git',\n",
       " 'extract.py']"
      ]
     },
     "execution_count": 15,
     "metadata": {},
     "output_type": "execute_result"
    }
   ],
   "source": [
    "os.listdir()"
   ]
  },
  {
   "cell_type": "code",
   "execution_count": 16,
   "id": "d9e4f1aa-be18-4b01-a1c2-dbe2989e31df",
   "metadata": {},
   "outputs": [],
   "source": [
    "import pandas as pd\n",
    "\n",
    "def cleanTickers(tickers):\n",
    "    tickers = []\n",
    "    for n in tickers:\n",
    "        if len(n) <= 4:\n",
    "            tickers.append(n)\n",
    "    return tickers\n",
    "\n",
    "def retieve_tickers(file):\n",
    "    bucket = pd.read_csv(file)\n",
    "    bucket = bucket['Symbol']\n",
    "    tickers = []\n",
    "    for n in bucket:\n",
    "        tickers.append(n)\n",
    "    tickers = cleanTickers(tickers)\n",
    "    return tickers"
   ]
  },
  {
   "cell_type": "code",
   "execution_count": 20,
   "id": "4333af9c-6c0e-49af-89b2-297ecd6d2953",
   "metadata": {},
   "outputs": [
    {
     "ename": "ImportError",
     "evalue": "cannot import name 'payload' from 'config' (/Users/eliafrank/Desktop/Projects/stock_scanner/config.py)",
     "output_type": "error",
     "traceback": [
      "\u001b[0;31m---------------------------------------------------------------------------\u001b[0m",
      "\u001b[0;31mImportError\u001b[0m                               Traceback (most recent call last)",
      "\u001b[0;32m<ipython-input-20-3a350416f0f6>\u001b[0m in \u001b[0;36m<module>\u001b[0;34m\u001b[0m\n\u001b[1;32m      1\u001b[0m \u001b[0;32mimport\u001b[0m \u001b[0mtools\u001b[0m\u001b[0;34m\u001b[0m\u001b[0;34m\u001b[0m\u001b[0m\n\u001b[0;32m----> 2\u001b[0;31m \u001b[0;32mfrom\u001b[0m \u001b[0mconfig\u001b[0m \u001b[0;32mimport\u001b[0m \u001b[0mameritrade\u001b[0m\u001b[0;34m,\u001b[0m \u001b[0mpayload\u001b[0m\u001b[0;34m\u001b[0m\u001b[0;34m\u001b[0m\u001b[0m\n\u001b[0m",
      "\u001b[0;31mImportError\u001b[0m: cannot import name 'payload' from 'config' (/Users/eliafrank/Desktop/Projects/stock_scanner/config.py)"
     ]
    }
   ],
   "source": [
    "import tools\n",
    "from config import ameritrade, payload"
   ]
  },
  {
   "cell_type": "code",
   "execution_count": null,
   "id": "ef02b088-5407-465f-8302-c70497319f55",
   "metadata": {},
   "outputs": [],
   "source": [
    "from config import ameritrade, points\n",
    "import pickle as pkl\n",
    "import tools\n",
    "import time\n",
    "import os\n",
    "import pandas as pd\n",
    "\n",
    "def fetch_analysis(file):\n",
    "    tickers = tools.retrieve_tickers(file)\n",
    "    start = 0\n",
    "    end = 50\n",
    "    files = []\n",
    "    while start < len(tickers):\n",
    "        symbols = tickers[start:end]\n",
    "        payload = {'apikey': ameritrade,\n",
    "                   'symbol': symbols,\n",
    "                   'projection': 'fundamental'} \n",
    "        result = requests.get('https://api.tdameritrade.com/v1/instruments', params=payload)\n",
    "        data = result.json()\n",
    "        f_name = tools.time_as_name('.pkl')\n",
    "        files.append(f_name)\n",
    "        with open(f_name, 'wb') as file:\n",
    "            pkl.dump(data, file)\n",
    "        start = end\n",
    "        end += 50\n",
    "        time.sleep(1)\n",
    "\n",
    "    data = []\n",
    "    for file in files:\n",
    "        with open(file, 'rb') as f:\n",
    "            info = pkl.load(f)\n",
    "        tickers = list(info)\n",
    "\n",
    "        for ticker in tickers:\n",
    "            tick = list()\n",
    "            for point in points:\n",
    "                tick.append(info[ticker]['fundamental'][point])\n",
    "                data.append(tick)\n",
    "                os.remove(file)\n",
    "    df = pd.DataFrame(data, columns=points)\n",
    "    return df\n"
   ]
  },
  {
   "cell_type": "code",
   "execution_count": null,
   "id": "75804a16-319f-41c0-a134-606be891d7c3",
   "metadata": {},
   "outputs": [],
   "source": [
    "from config import ameritrade, points\n",
    "import pickle as pkl\n",
    "import tools\n",
    "import time\n",
    "import os\n",
    "import pandas as pd\n",
    "\n",
    "\n",
    "tickers = tools.retrieve_tickers('tech_bucket.csv')\n",
    "start = 0\n",
    "end = 50\n",
    "files = []\n",
    "while start < len(tickers):\n",
    "    symbols = tickers[start:end]\n",
    "    payload = {'apikey': ameritrade,\n",
    "               'symbol': symbols,\n",
    "               'projection': 'fundamental'} \n",
    "    result = requests.get('https://api.tdameritrade.com/v1/instruments', params=payload)\n",
    "    data = result.json()"
   ]
  },
  {
   "cell_type": "code",
   "execution_count": null,
   "id": "4dac89b2-9621-418b-939e-236ab388259e",
   "metadata": {},
   "outputs": [],
   "source": [
    "from config import ameritrade, points\n",
    "import pickle as pkl\n",
    "import tools\n",
    "import time\n",
    "import os\n",
    "import pandas as pd"
   ]
  },
  {
   "cell_type": "code",
   "execution_count": null,
   "id": "e071e5e0-c6b6-4a10-86b3-ef0a7526f34a",
   "metadata": {},
   "outputs": [],
   "source": [
    "ticers = tools.retrieve_tickers('tech_bucket.csv')"
   ]
  },
  {
   "cell_type": "code",
   "execution_count": null,
   "id": "c048fa16-33aa-4d95-b5a8-02a7fb5537c7",
   "metadata": {},
   "outputs": [],
   "source": [
    "tickers = ticers"
   ]
  },
  {
   "cell_type": "code",
   "execution_count": null,
   "id": "62288a64-8a99-446f-9da8-5661895a7e60",
   "metadata": {},
   "outputs": [],
   "source": [
    "tickers"
   ]
  },
  {
   "cell_type": "code",
   "execution_count": null,
   "id": "b930235b-5e4f-44c1-83e1-56ab4f39a876",
   "metadata": {},
   "outputs": [],
   "source": [
    "bucket = pd.read_csv('tech_bucket.csv')"
   ]
  },
  {
   "cell_type": "code",
   "execution_count": null,
   "id": "ac8d5b2a-eb87-427b-abe2-a7a498f31569",
   "metadata": {},
   "outputs": [],
   "source": [
    "bucket = bucket['Symbol']"
   ]
  },
  {
   "cell_type": "code",
   "execution_count": null,
   "id": "5b8fa04d-e731-4afb-a90c-10cdaf7ab220",
   "metadata": {},
   "outputs": [],
   "source": [
    "bucket"
   ]
  },
  {
   "cell_type": "code",
   "execution_count": null,
   "id": "aef0b294-ca14-4c3a-ab56-c0e965a21bfc",
   "metadata": {},
   "outputs": [],
   "source": [
    "tickers = []"
   ]
  },
  {
   "cell_type": "code",
   "execution_count": null,
   "id": "e1583a5e-ad67-4c28-92eb-e5bcd528bf7a",
   "metadata": {},
   "outputs": [],
   "source": [
    "for n in bucket:\n",
    "    tickers.append(n)"
   ]
  },
  {
   "cell_type": "code",
   "execution_count": null,
   "id": "425e91fe-cac2-4606-9d1a-55d27b11c611",
   "metadata": {},
   "outputs": [],
   "source": [
    "tickers = tools.cleanTickers(tickers)"
   ]
  },
  {
   "cell_type": "code",
   "execution_count": null,
   "id": "8ca69c3b-aae1-4c08-9d2b-1952aec3b08b",
   "metadata": {},
   "outputs": [],
   "source": [
    "tickers"
   ]
  },
  {
   "cell_type": "code",
   "execution_count": null,
   "id": "19445064-ddac-4697-be6a-80333d62f180",
   "metadata": {},
   "outputs": [],
   "source": [
    "df.head()"
   ]
  },
  {
   "cell_type": "code",
   "execution_count": null,
   "id": "67b9104a-6eb8-46d1-8daa-ff5162314589",
   "metadata": {},
   "outputs": [],
   "source": []
  }
 ],
 "metadata": {
  "kernelspec": {
   "display_name": "Python 3 (ipykernel)",
   "language": "python",
   "name": "python3"
  },
  "language_info": {
   "codemirror_mode": {
    "name": "ipython",
    "version": 3
   },
   "file_extension": ".py",
   "mimetype": "text/x-python",
   "name": "python",
   "nbconvert_exporter": "python",
   "pygments_lexer": "ipython3",
   "version": "3.9.2"
  }
 },
 "nbformat": 4,
 "nbformat_minor": 5
}
