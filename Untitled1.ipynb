{
 "cells": [
  {
   "cell_type": "code",
   "execution_count": 1,
   "id": "fb1dfaa6-f028-4448-9684-e9f349bcbfd3",
   "metadata": {},
   "outputs": [],
   "source": [
    "import chart"
   ]
  },
  {
   "cell_type": "code",
   "execution_count": 10,
   "id": "b49ea429-0bd4-49a0-bf3b-89bdc49b0ddc",
   "metadata": {},
   "outputs": [],
   "source": [
    "def iv_prem(ticker):\n",
    "    ticker = ticker.upper()\n",
    "    stock = {}\n",
    "    stock_chart = chart.chart(ticker)['chart']\n",
    "    stock_iv = chart.options(ticker)\n",
    "    print(f'Implied Vol: {stock_iv[\"volatility\"]}')\n",
    "    print(f'Historical Vol: {stock_chart.iloc[-1][\"HV\"]}')\n",
    "    result = round(100 * ((stock_iv['volatility'] - stock_chart.iloc[-1]['HV']) / stock_chart.iloc[-1]['HV']), 3)\n",
    "    print(f'Premium/Discount: {result}')\n",
    "    "
   ]
  },
  {
   "cell_type": "code",
   "execution_count": 17,
   "id": "c11c967a-31a1-4a1a-9dc8-60768e4ca997",
   "metadata": {},
   "outputs": [
    {
     "name": "stdout",
     "output_type": "stream",
     "text": [
      "Implied Vol: 21.029\n",
      "Historical Vol: 17.694\n",
      "Premium/Discount: 18.848\n"
     ]
    }
   ],
   "source": [
    "iv_prem('aapl') "
   ]
  },
  {
   "cell_type": "code",
   "execution_count": 20,
   "id": "ff7ce4fd-1edb-4937-9cfd-a102c69f783e",
   "metadata": {},
   "outputs": [
    {
     "data": {
      "text/plain": [
       "66.74"
      ]
     },
     "execution_count": 20,
     "metadata": {},
     "output_type": "execute_result"
    }
   ],
   "source": [
    "aapl_pd"
   ]
  },
  {
   "cell_type": "code",
   "execution_count": 7,
   "id": "1db6e213-ed20-4c6e-945f-862e4b9d49fc",
   "metadata": {},
   "outputs": [
    {
     "data": {
      "text/plain": [
       "{'chart':                volume   close       low      high    open     MA10      MA20  \\\n",
       " datetime                                                                       \n",
       " 11/10/2020  138023390  115.97  114.1300  117.5900  115.55      NaN       NaN   \n",
       " 11/11/2020  112294954  119.49  116.4400  119.6300  117.19      NaN       NaN   \n",
       " 11/12/2020  103350674  119.21  118.5700  120.5300  119.62      NaN       NaN   \n",
       " 11/13/2020   81688586  119.26  117.8700  119.6717  119.44      NaN       NaN   \n",
       " 11/16/2020   91183018  120.30  118.1460  120.9900  118.92      NaN       NaN   \n",
       " ...               ...     ...       ...       ...     ...      ...       ...   \n",
       " 11/04/2021   60394616  150.96  150.6400  152.4300  151.58  149.930  147.5040   \n",
       " 11/05/2021   65463883  151.28  150.0600  152.2000  151.89  150.189  147.9230   \n",
       " 11/08/2021   55020868  150.44  150.1600  151.5700  151.41  150.369  148.3045   \n",
       " 11/09/2021   56787930  150.81  150.0601  151.4280  150.20  150.518  148.7695   \n",
       " 11/10/2021   65187092  147.92  147.8500  150.1300  150.02  150.425  149.1200   \n",
       " \n",
       "             Abs(R)  30dayHVSD  30dayHV  \n",
       " datetime                                \n",
       " 11/10/2020     NaN        NaN      NaN  \n",
       " 11/11/2020     0.0        NaN      NaN  \n",
       " 11/12/2020     0.0        NaN      NaN  \n",
       " 11/13/2020     0.0        NaN      NaN  \n",
       " 11/16/2020     0.0        NaN      NaN  \n",
       " ...            ...        ...      ...  \n",
       " 11/04/2021     0.0   3.837034    60.91  \n",
       " 11/05/2021     0.0   3.957928    62.83  \n",
       " 11/08/2021     0.0   4.035867    64.07  \n",
       " 11/09/2021     0.0   4.036171    64.07  \n",
       " 11/10/2021     0.0   3.983021    63.23  \n",
       " \n",
       " [253 rows x 10 columns],\n",
       " 'iv': '9'}"
      ]
     },
     "execution_count": 7,
     "metadata": {},
     "output_type": "execute_result"
    }
   ],
   "source": [
    "aapl"
   ]
  },
  {
   "cell_type": "code",
   "execution_count": 8,
   "id": "8b1fbcac-e80c-420e-ac01-801be0406485",
   "metadata": {},
   "outputs": [
    {
     "ename": "IndexError",
     "evalue": "list index out of range",
     "output_type": "error",
     "traceback": [
      "\u001b[0;31m---------------------------------------------------------------------------\u001b[0m",
      "\u001b[0;31mIndexError\u001b[0m                                Traceback (most recent call last)",
      "\u001b[0;32m<ipython-input-8-9b0c38423a7e>\u001b[0m in \u001b[0;36m<module>\u001b[0;34m\u001b[0m\n\u001b[0;32m----> 1\u001b[0;31m \u001b[0maapl\u001b[0m \u001b[0;34m=\u001b[0m \u001b[0mchart\u001b[0m\u001b[0;34m.\u001b[0m\u001b[0moptions\u001b[0m\u001b[0;34m(\u001b[0m\u001b[0;34m'aapl'\u001b[0m\u001b[0;34m)\u001b[0m\u001b[0;34m\u001b[0m\u001b[0;34m\u001b[0m\u001b[0m\n\u001b[0m",
      "\u001b[0;32m~/Desktop/Projects/stock_scanner/chart.py\u001b[0m in \u001b[0;36moptions\u001b[0;34m(ticker)\u001b[0m\n\u001b[1;32m    128\u001b[0m     \u001b[0mexp\u001b[0m \u001b[0;34m=\u001b[0m \u001b[0;34m[\u001b[0m\u001b[0mn\u001b[0m \u001b[0;32mfor\u001b[0m \u001b[0mn\u001b[0m \u001b[0;32min\u001b[0m \u001b[0mdata\u001b[0m\u001b[0;34m[\u001b[0m\u001b[0;34m'callExpDateMap'\u001b[0m\u001b[0;34m]\u001b[0m\u001b[0;34m.\u001b[0m\u001b[0mkeys\u001b[0m\u001b[0;34m(\u001b[0m\u001b[0;34m)\u001b[0m\u001b[0;34m]\u001b[0m\u001b[0;34m\u001b[0m\u001b[0;34m\u001b[0m\u001b[0m\n\u001b[1;32m    129\u001b[0m     \u001b[0mstrike\u001b[0m \u001b[0;34m=\u001b[0m \u001b[0;34m{\u001b[0m\u001b[0;34m}\u001b[0m\u001b[0;34m\u001b[0m\u001b[0;34m\u001b[0m\u001b[0m\n\u001b[0;32m--> 130\u001b[0;31m     \u001b[0mstrike\u001b[0m\u001b[0;34m[\u001b[0m\u001b[0;34mf'{exp[4]}'\u001b[0m\u001b[0;34m]\u001b[0m \u001b[0;34m=\u001b[0m \u001b[0mdata\u001b[0m\u001b[0;34m[\u001b[0m\u001b[0;34m'callExpDateMap'\u001b[0m\u001b[0;34m]\u001b[0m\u001b[0;34m[\u001b[0m\u001b[0mexp\u001b[0m\u001b[0;34m[\u001b[0m\u001b[0;36m4\u001b[0m\u001b[0;34m]\u001b[0m\u001b[0;34m]\u001b[0m\u001b[0;34m\u001b[0m\u001b[0;34m\u001b[0m\u001b[0m\n\u001b[0m\u001b[1;32m    131\u001b[0m     \u001b[0;32mfor\u001b[0m \u001b[0mn\u001b[0m \u001b[0;32min\u001b[0m \u001b[0mstrike\u001b[0m\u001b[0;34m:\u001b[0m\u001b[0;34m\u001b[0m\u001b[0;34m\u001b[0m\u001b[0m\n\u001b[1;32m    132\u001b[0m         \u001b[0mt\u001b[0m \u001b[0;34m=\u001b[0m \u001b[0mn\u001b[0m\u001b[0;34m\u001b[0m\u001b[0;34m\u001b[0m\u001b[0m\n",
      "\u001b[0;31mIndexError\u001b[0m: list index out of range"
     ]
    }
   ],
   "source": [
    "aapl = chart.options('aapl')"
   ]
  },
  {
   "cell_type": "code",
   "execution_count": 9,
   "id": "042697c8-b443-436b-ad89-44c94617805e",
   "metadata": {},
   "outputs": [],
   "source": [
    "from chart import options"
   ]
  },
  {
   "cell_type": "code",
   "execution_count": 10,
   "id": "50cc52d6-51bc-4fec-b83e-d0bd1c7f1569",
   "metadata": {},
   "outputs": [
    {
     "ename": "IndexError",
     "evalue": "list index out of range",
     "output_type": "error",
     "traceback": [
      "\u001b[0;31m---------------------------------------------------------------------------\u001b[0m",
      "\u001b[0;31mIndexError\u001b[0m                                Traceback (most recent call last)",
      "\u001b[0;32m<ipython-input-10-62a26f5d527d>\u001b[0m in \u001b[0;36m<module>\u001b[0;34m\u001b[0m\n\u001b[0;32m----> 1\u001b[0;31m \u001b[0maapl\u001b[0m \u001b[0;34m=\u001b[0m \u001b[0moptions\u001b[0m\u001b[0;34m(\u001b[0m\u001b[0;34m'aapl'\u001b[0m\u001b[0;34m)\u001b[0m\u001b[0;34m\u001b[0m\u001b[0;34m\u001b[0m\u001b[0m\n\u001b[0m",
      "\u001b[0;32m~/Desktop/Projects/stock_scanner/chart.py\u001b[0m in \u001b[0;36moptions\u001b[0;34m(ticker)\u001b[0m\n\u001b[1;32m    128\u001b[0m     \u001b[0mexp\u001b[0m \u001b[0;34m=\u001b[0m \u001b[0;34m[\u001b[0m\u001b[0mn\u001b[0m \u001b[0;32mfor\u001b[0m \u001b[0mn\u001b[0m \u001b[0;32min\u001b[0m \u001b[0mdata\u001b[0m\u001b[0;34m[\u001b[0m\u001b[0;34m'callExpDateMap'\u001b[0m\u001b[0;34m]\u001b[0m\u001b[0;34m.\u001b[0m\u001b[0mkeys\u001b[0m\u001b[0;34m(\u001b[0m\u001b[0;34m)\u001b[0m\u001b[0;34m]\u001b[0m\u001b[0;34m\u001b[0m\u001b[0;34m\u001b[0m\u001b[0m\n\u001b[1;32m    129\u001b[0m     \u001b[0mstrike\u001b[0m \u001b[0;34m=\u001b[0m \u001b[0;34m{\u001b[0m\u001b[0;34m}\u001b[0m\u001b[0;34m\u001b[0m\u001b[0;34m\u001b[0m\u001b[0m\n\u001b[0;32m--> 130\u001b[0;31m     \u001b[0mstrike\u001b[0m\u001b[0;34m[\u001b[0m\u001b[0;34mf'{exp[4]}'\u001b[0m\u001b[0;34m]\u001b[0m \u001b[0;34m=\u001b[0m \u001b[0mdata\u001b[0m\u001b[0;34m[\u001b[0m\u001b[0;34m'callExpDateMap'\u001b[0m\u001b[0;34m]\u001b[0m\u001b[0;34m[\u001b[0m\u001b[0mexp\u001b[0m\u001b[0;34m[\u001b[0m\u001b[0;36m4\u001b[0m\u001b[0;34m]\u001b[0m\u001b[0;34m]\u001b[0m\u001b[0;34m\u001b[0m\u001b[0;34m\u001b[0m\u001b[0m\n\u001b[0m\u001b[1;32m    131\u001b[0m     \u001b[0;32mfor\u001b[0m \u001b[0mn\u001b[0m \u001b[0;32min\u001b[0m \u001b[0mstrike\u001b[0m\u001b[0;34m:\u001b[0m\u001b[0;34m\u001b[0m\u001b[0;34m\u001b[0m\u001b[0m\n\u001b[1;32m    132\u001b[0m         \u001b[0mt\u001b[0m \u001b[0;34m=\u001b[0m \u001b[0mn\u001b[0m\u001b[0;34m\u001b[0m\u001b[0;34m\u001b[0m\u001b[0m\n",
      "\u001b[0;31mIndexError\u001b[0m: list index out of range"
     ]
    }
   ],
   "source": [
    "aapl = options('aapl')"
   ]
  },
  {
   "cell_type": "code",
   "execution_count": 1,
   "id": "8898a036-d831-4ace-bedc-d1330e8fc408",
   "metadata": {},
   "outputs": [],
   "source": [
    "from chart import options"
   ]
  },
  {
   "cell_type": "code",
   "execution_count": 2,
   "id": "bd0677e2-e0fd-4bdd-a673-85a374284a2c",
   "metadata": {},
   "outputs": [],
   "source": [
    "aapl = options('aapl')"
   ]
  },
  {
   "cell_type": "code",
   "execution_count": 9,
   "id": "f870f647-4514-4127-8c58-dcc60e596d69",
   "metadata": {},
   "outputs": [],
   "source": [
    "for n in aapl.keys():\n",
    "    key = n"
   ]
  },
  {
   "cell_type": "code",
   "execution_count": 6,
   "id": "38bfab1b-f9c8-473f-8739-773c101df314",
   "metadata": {},
   "outputs": [
    {
     "ename": "KeyError",
     "evalue": "'key'",
     "output_type": "error",
     "traceback": [
      "\u001b[0;31m---------------------------------------------------------------------------\u001b[0m",
      "\u001b[0;31mKeyError\u001b[0m                                  Traceback (most recent call last)",
      "\u001b[0;32m<ipython-input-6-aced4e8f44bb>\u001b[0m in \u001b[0;36m<module>\u001b[0;34m\u001b[0m\n\u001b[0;32m----> 1\u001b[0;31m \u001b[0maapl\u001b[0m\u001b[0;34m[\u001b[0m\u001b[0;34m'key'\u001b[0m\u001b[0;34m]\u001b[0m\u001b[0;34m\u001b[0m\u001b[0;34m\u001b[0m\u001b[0m\n\u001b[0m",
      "\u001b[0;31mKeyError\u001b[0m: 'key'"
     ]
    }
   ],
   "source": [
    "aapl['key']"
   ]
  },
  {
   "cell_type": "code",
   "execution_count": 10,
   "id": "c0ce5178-565a-4b5f-9b74-d58329228d04",
   "metadata": {},
   "outputs": [],
   "source": [
    "aapl = aapl[key]"
   ]
  },
  {
   "cell_type": "code",
   "execution_count": 3,
   "id": "27aa5bc7-4bbc-4a80-b9e8-812bde4b8d2f",
   "metadata": {},
   "outputs": [
    {
     "data": {
      "text/plain": [
       "{'putCall': 'CALL',\n",
       " 'symbol': 'AAPL_121021C148',\n",
       " 'description': 'AAPL Dec 10 2021 148 Call (Weekly)',\n",
       " 'exchangeName': 'OPR',\n",
       " 'bid': 3.45,\n",
       " 'ask': 3.55,\n",
       " 'last': 3.5,\n",
       " 'mark': 3.5,\n",
       " 'bidSize': 26,\n",
       " 'askSize': 29,\n",
       " 'bidAskSize': '26X29',\n",
       " 'lastSize': 0,\n",
       " 'highPrice': 4.2,\n",
       " 'lowPrice': 3.44,\n",
       " 'openPrice': 0.0,\n",
       " 'closePrice': 3.73,\n",
       " 'totalVolume': 1108,\n",
       " 'tradeDate': None,\n",
       " 'tradeTimeInLong': 1636664353470,\n",
       " 'quoteTimeInLong': 1636664399994,\n",
       " 'netChange': -0.23,\n",
       " 'volatility': 21.029,\n",
       " 'delta': 0.509,\n",
       " 'gamma': 0.045,\n",
       " 'theta': -0.061,\n",
       " 'vega': 0.168,\n",
       " 'rho': 0.058,\n",
       " 'openInterest': 489,\n",
       " 'timeValue': 3.5,\n",
       " 'theoreticalOptionValue': 3.5,\n",
       " 'theoreticalVolatility': 29.0,\n",
       " 'optionDeliverablesList': None,\n",
       " 'strikePrice': 148.0,\n",
       " 'expirationDate': 1639170000000,\n",
       " 'daysToExpiration': 29,\n",
       " 'expirationType': 'S',\n",
       " 'lastTradingDay': 1639184400000,\n",
       " 'multiplier': 100.0,\n",
       " 'settlementType': ' ',\n",
       " 'deliverableNote': '',\n",
       " 'isIndexOption': None,\n",
       " 'percentChange': -6.05,\n",
       " 'markChange': -0.23,\n",
       " 'markPercentChange': -6.05,\n",
       " 'intrinsicValue': -0.13,\n",
       " 'pennyPilot': True,\n",
       " 'inTheMoney': False,\n",
       " 'nonStandard': False,\n",
       " 'mini': False}"
      ]
     },
     "execution_count": 3,
     "metadata": {},
     "output_type": "execute_result"
    }
   ],
   "source": [
    "aapl"
   ]
  },
  {
   "cell_type": "code",
   "execution_count": 13,
   "id": "320774c0-e528-4e62-8662-3933c4d0bd63",
   "metadata": {},
   "outputs": [],
   "source": [
    "aapl = aapl[0]"
   ]
  },
  {
   "cell_type": "code",
   "execution_count": 14,
   "id": "33acc33b-4254-41e9-9a1b-4956719d2990",
   "metadata": {},
   "outputs": [
    {
     "data": {
      "text/plain": [
       "{'putCall': 'CALL',\n",
       " 'symbol': 'AAPL_121021C148',\n",
       " 'description': 'AAPL Dec 10 2021 148 Call (Weekly)',\n",
       " 'exchangeName': 'OPR',\n",
       " 'bid': 3.45,\n",
       " 'ask': 3.55,\n",
       " 'last': 3.5,\n",
       " 'mark': 3.5,\n",
       " 'bidSize': 26,\n",
       " 'askSize': 29,\n",
       " 'bidAskSize': '26X29',\n",
       " 'lastSize': 0,\n",
       " 'highPrice': 4.2,\n",
       " 'lowPrice': 3.44,\n",
       " 'openPrice': 0.0,\n",
       " 'closePrice': 3.73,\n",
       " 'totalVolume': 1108,\n",
       " 'tradeDate': None,\n",
       " 'tradeTimeInLong': 1636664353470,\n",
       " 'quoteTimeInLong': 1636664399994,\n",
       " 'netChange': -0.23,\n",
       " 'volatility': 21.029,\n",
       " 'delta': 0.509,\n",
       " 'gamma': 0.045,\n",
       " 'theta': -0.061,\n",
       " 'vega': 0.168,\n",
       " 'rho': 0.058,\n",
       " 'openInterest': 489,\n",
       " 'timeValue': 3.5,\n",
       " 'theoreticalOptionValue': 3.5,\n",
       " 'theoreticalVolatility': 29.0,\n",
       " 'optionDeliverablesList': None,\n",
       " 'strikePrice': 148.0,\n",
       " 'expirationDate': 1639170000000,\n",
       " 'daysToExpiration': 29,\n",
       " 'expirationType': 'S',\n",
       " 'lastTradingDay': 1639184400000,\n",
       " 'multiplier': 100.0,\n",
       " 'settlementType': ' ',\n",
       " 'deliverableNote': '',\n",
       " 'isIndexOption': None,\n",
       " 'percentChange': -6.05,\n",
       " 'markChange': -0.23,\n",
       " 'markPercentChange': -6.05,\n",
       " 'intrinsicValue': -0.13,\n",
       " 'pennyPilot': True,\n",
       " 'mini': False,\n",
       " 'nonStandard': False,\n",
       " 'inTheMoney': False}"
      ]
     },
     "execution_count": 14,
     "metadata": {},
     "output_type": "execute_result"
    }
   ],
   "source": [
    "aapl"
   ]
  },
  {
   "cell_type": "code",
   "execution_count": null,
   "id": "a62e5b03-e5d6-4ea9-a678-f34a63618c79",
   "metadata": {},
   "outputs": [],
   "source": []
  }
 ],
 "metadata": {
  "kernelspec": {
   "display_name": "Python 3 (ipykernel)",
   "language": "python",
   "name": "python3"
  },
  "language_info": {
   "codemirror_mode": {
    "name": "ipython",
    "version": 3
   },
   "file_extension": ".py",
   "mimetype": "text/x-python",
   "name": "python",
   "nbconvert_exporter": "python",
   "pygments_lexer": "ipython3",
   "version": "3.9.2"
  }
 },
 "nbformat": 4,
 "nbformat_minor": 5
}
